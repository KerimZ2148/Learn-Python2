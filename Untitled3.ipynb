{
 "cells": [
  {
   "cell_type": "code",
   "execution_count": null,
   "id": "1f4d3ca3-ff78-4a1e-a868-0d6988f70eb8",
   "metadata": {},
   "outputs": [
    {
     "name": "stdout",
     "output_type": "stream",
     "text": [
      "ENES MANAVA HOŞGELDİNİZ NE ALMAK İSTERSENİZ?\n",
      "Domates Almak için 1-E SALATALIK İÇİN 2-E Muz için 3-E KİRAZ İÇİN 4-E Portakal İçin 5-E KARPUZ İçin 6-E KAVUN İÇİN 7-A.....\n",
      "İşlemi Bitirmek İçin Lütfen 0 A Basınız.\n"
     ]
    },
    {
     "name": "stdout",
     "output_type": "stream",
     "text": [
      "ALMAK İSTEDİGİNİZ MEYVELERİ LÜTFEN SEÇİNİZ: 2\n",
      "ALMAK İSTEDİGİNİZ MEYVELERİ LÜTFEN SEÇİNİZ: 3\n",
      "ALMAK İSTEDİGİNİZ MEYVELERİ LÜTFEN SEÇİNİZ: 4\n",
      "ALMAK İSTEDİGİNİZ MEYVELERİ LÜTFEN SEÇİNİZ: 1\n",
      "ALMAK İSTEDİGİNİZ MEYVELERİ LÜTFEN SEÇİNİZ: 0\n"
     ]
    },
    {
     "name": "stdout",
     "output_type": "stream",
     "text": [
      "Çıkış İşleminiz Gerçekleşmiştir\n",
      "Toplam Tutarınız:57\n",
      "**********************************************\n",
      "ENES MANAVI TERCİH ETTİGİNİZ İÇİN TEŞŞEKÜR EDERİZ.\n"
     ]
    }
   ],
   "source": [
    "print(\"KRM MANAVA HOŞGELDİNİZ NE ALMAK İSTERSENİZ?\")\n",
    "print(\"Domates Almak için 1-E SALATALIK İÇİN 2-E Muz için 3-E KİRAZ İÇİN 4-E Portakal İçin 5-E KARPUZ İçin 6-A KAVUN İÇİN 7-A.....\")\n",
    "Domates=5\n",
    "Salatalık=10\n",
    "Muz=30\n",
    "Portakal=12\n",
    "Karpuz=7\n",
    "Kavun=14\n",
    "ToplamTutar=0\n",
    "print(\"İşlemi Bitirmek İçin Lütfen 0 A Basınız.\")\n",
    "\n",
    "while True:\n",
    "    TuşaBas=input(\"ALMAK İSTEDİGİNİZ MEYVEYİ LÜTFEN SEÇİNİZ:\")\n",
    "    if(TuşaBas==\"1\"):\n",
    "        ToplamTutar+=Domates\n",
    "    elif(TuşaBas==\"2\"):\n",
    "        ToplamTutar+=Salatalık\n",
    "    elif(TuşaBas==\"3\"):\n",
    "        ToplamTutar+=Muz\n",
    "    elif(TuşaBas==\"4\"):\n",
    "        ToplamTutar+=Portakal\n",
    "    elif(TuşaBas==\"5\"):\n",
    "        ToplamTutar+=Karpuz\n",
    "    elif(TuşaBas==\"6\"):\n",
    "        ToplamTutar+=Kavun\n",
    "    elif(TuşaBas==\"0\"):\n",
    "        print(\"Çıkış İşleminiz Gerçekleşmiştir\")\n",
    "        break\n",
    "    else:\n",
    "        print(\"Lütfen Geçerli İşlem Giriniz.\")\n",
    "\n",
    "print(f\"Toplam Tutarınız:{ToplamTutar}\")\n",
    "print(\"**********************************************\")\n",
    "print(\"KRM MANAVI TERCİH ETTİGİNİZ İÇİN TEŞŞEKÜR EDERİZ.\")\n"
   ]
  },
  {
   "cell_type": "code",
   "execution_count": 25,
   "id": "9e6c5694-4b75-4e75-a5f7-87b9ebac9771",
   "metadata": {},
   "outputs": [
    {
     "name": "stdout",
     "output_type": "stream",
     "text": [
      "dizi:[22, 87, 40, 5, 72, 72, 46, 79, 44, 9]\n",
      "Max:87\n"
     ]
    }
   ],
   "source": [
    "import random\n",
    "def maxbul(dizi):\n",
    "    max=dizi[0]\n",
    "    for i in dizi:\n",
    "        if i>max:\n",
    "            max=i\n",
    "    return max\n",
    "    \n",
    "dizi=[random.randint(1,100) for _ in range(10)]\n",
    "print(f\"dizi:{dizi}\")\n",
    "s=maxbul(dizi)\n",
    "print(f\"Max:{s}\")\n",
    "\n"
   ]
  },
  {
   "cell_type": "code",
   "execution_count": 27,
   "id": "1b6b5dab-1cc4-4a13-9aa2-d22196a4923a",
   "metadata": {},
   "outputs": [
    {
     "name": "stdout",
     "output_type": "stream",
     "text": [
      "dizi:[71, 80, 61, 80, 82, 13, 61, 33, 10, 63]\n",
      "Max=82\n"
     ]
    }
   ],
   "source": [
    "# Üstteki Max Değeri Daha Kısa Yoldan Yapıyorum.\n",
    "import random\n",
    "def maxbul(dizi):\n",
    "    return max(dizi)\n",
    "\n",
    "dizi=[random.randint(1,100) for _ in range(10)]\n",
    "print(f\"dizi:{dizi}\")\n",
    "s=maxbul(dizi)\n",
    "print(f\"Max={s}\")\n"
   ]
  },
  {
   "cell_type": "code",
   "execution_count": 29,
   "id": "34d7a9c5-14b7-4d33-b280-4d881b37a1dd",
   "metadata": {},
   "outputs": [
    {
     "name": "stdout",
     "output_type": "stream",
     "text": [
      "1-2-3-4 Sırasıyla Kare Ucgen Daire Dikdortgen İçin Tuşa Basınız: 5\n"
     ]
    },
    {
     "name": "stdout",
     "output_type": "stream",
     "text": [
      "Lütfen Geçerli İşlem Giriniz.\n"
     ]
    },
    {
     "name": "stdout",
     "output_type": "stream",
     "text": [
      "1-2-3-4 Sırasıyla Kare Ucgen Daire Dikdortgen İçin Tuşa Basınız: 2\n",
      "Üçgenin Yüksekligini Giriniz: 6\n",
      "Üçgenin Taban Uzunlugunu Giriniz: 2\n"
     ]
    },
    {
     "name": "stdout",
     "output_type": "stream",
     "text": [
      "Uçgenin Alanı:6.0\n"
     ]
    }
   ],
   "source": [
    "import math\n",
    "def KareHesapla(a):\n",
    "    return a*a\n",
    "\n",
    "def UcgenHesapla(Yukseklik,Taban):\n",
    "    return (Yukseklik*Taban)/2\n",
    "\n",
    "def DaireHesapla(a):\n",
    "    return math.pi*a*a\n",
    "\n",
    "def DikdörtgenHesapla(a,b):\n",
    "    return a*b\n",
    "\n",
    "\n",
    "   \n",
    "while True: \n",
    "    hesapla=input(\"1-2-3-4 Sırasıyla Kare Ucgen Daire Dikdortgen İçin Tuşa Basınız:\")\n",
    "    \n",
    "    if(hesapla==\"1\"):\n",
    "        KareGir=int(input(\"Karenin Bir Kenar Uzunlugunu Giriniz:\"))\n",
    "        sonuc=KareHesapla(KareGir)\n",
    "        print(f\"Karenin Alanı:{sonuc}\")\n",
    "        break\n",
    "    \n",
    "    elif(hesapla==\"2\"):\n",
    "        YukseklikGir=int(input(\"Üçgenin Yüksekligini Giriniz:\"))\n",
    "        TabanGir=int(input(\"Üçgenin Taban Uzunlugunu Giriniz:\"))\n",
    "        sonuc=UcgenHesapla(YukseklikGir,TabanGir)\n",
    "        print(f\"Uçgenin Alanı:{sonuc}\")\n",
    "        break\n",
    "    elif(hesapla==\"3\"):\n",
    "        DaireUzunlugu=int(input(\"Dairenin Yarıçapını Giriniz:\"))\n",
    "        sonuc=DaireHesapla(DaireUzunlugu)\n",
    "        print(f\"Dairenin Alanı:{sonuc}\")\n",
    "        break\n",
    "    elif(hesapla==\"4\"):\n",
    "        Kısakenar=int(input(\"Dikdortgenin Kısa Kenar Uzunlugunu Giriniz:\"))\n",
    "        UzunKenar=int(input(\"Dikdortgenin Uzun Kenar Uzunlugunu Giriniz:\"))\n",
    "        sonuc=DikdörtgenHesapla(Kısakenar,UzunKenar)\n",
    "        print(f\"Dikdörtgen Alanı:{sonuc}\")\n",
    "        break\n",
    "    else:\n",
    "        print(\"Lütfen Geçerli İşlem Giriniz.\")    "
   ]
  },
  {
   "cell_type": "code",
   "execution_count": null,
   "id": "139d58a1-2407-41f7-b531-508339b3d8a1",
   "metadata": {},
   "outputs": [],
   "source": [
    "def EmeklilikOgrenme(yas):\n",
    "    if(yas>=50):\n",
    "        return 1\n",
    "    else:\n",
    "        return 0\n",
    "\n",
    "YasGir=int(input(\"Yaşınızı Giriniz:\"))\n",
    "s=EmeklilikOgrenme(YasGir)\n",
    "KalanYıl=0\n",
    "OldugumYıl=0\n",
    "\n",
    "if(s==1):\n",
    "    OldugumYıl=YasGir-50\n",
    "    print(f\"{OldugumYıl} Yıldır Emeklisiniz.\")\n",
    "else:\n",
    "    KalanYıl=50-YasGir\n",
    "    print(f\"{KalanYıl} Yıl Kaldı Emekli Olmanıza\")\n",
    "\n",
    "print(\"******************************************\")\n",
    "print(\"Gerekli Bilgiyi Ögrendiniz Görüsmek üzere.\")"
   ]
  }
 ],
 "metadata": {
  "kernelspec": {
   "display_name": "Python 3 (ipykernel)",
   "language": "python",
   "name": "python3"
  },
  "language_info": {
   "codemirror_mode": {
    "name": "ipython",
    "version": 3
   },
   "file_extension": ".py",
   "mimetype": "text/x-python",
   "name": "python",
   "nbconvert_exporter": "python",
   "pygments_lexer": "ipython3",
   "version": "3.12.4"
  }
 },
 "nbformat": 4,
 "nbformat_minor": 5
}
